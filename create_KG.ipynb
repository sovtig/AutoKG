{
 "cells": [
  {
   "cell_type": "code",
   "execution_count": null,
   "metadata": {},
   "outputs": [],
   "source": [
    "import os\n",
    "import matplotlib.pyplot as plt\n",
    "import numpy as np\n",
    "import openai\n",
    "import yaml\n",
    "\n",
    "from utils import *\n",
    "\n",
    "import autoKG_full as AKG"
   ]
  },
  {
   "cell_type": "code",
   "execution_count": 2,
   "metadata": {
    "collapsed": false,
    "jupyter": {
     "outputs_hidden": false
    },
    "pycharm": {
     "name": "#%%\n"
    }
   },
   "outputs": [],
   "source": [
    "with open(\"config.yaml\", 'r') as stream:\n",
    "    try:\n",
    "        params = yaml.safe_load(stream)\n",
    "    except yaml.YAMLError as exc:\n",
    "        print(exc)\n",
    "\n",
    "\n",
    "COMPLETIONS_MODEL = params[\"OPENAI_API_MODEL\"]\n",
    "EMBEDDING_MODEL = params[\"EMBEDDING_MODEL\"]\n",
    "my_api_key = params[\"OPENAI_API_KEY\"]\n",
    "openai.api_key = my_api_key\n",
    "\n",
    "os.environ['OPENAI_API_KEY'] = my_api_key\n",
    "OPENAI_API_KEY = os.environ[\"OPENAI_API_KEY\"]"
   ]
  },
  {
   "cell_type": "code",
   "execution_count": 4,
   "metadata": {
    "collapsed": false,
    "jupyter": {
     "outputs_hidden": false
    },
    "pycharm": {
     "name": "#%%\n"
    }
   },
   "outputs": [],
   "source": [
    "directory = \"raw_data\"\n",
    "texts, sources = load_and_process_files(directory,\n",
    "                                        chunk_size=200,\n",
    "                                        separator=None)\n",
    "\n"
   ]
  },
  {
   "cell_type": "code",
   "execution_count": 5,
   "metadata": {
    "collapsed": false,
    "jupyter": {
     "outputs_hidden": false
    },
    "pycharm": {
     "name": "#%%\n"
    }
   },
   "outputs": [],
   "source": [
    "main_topic = \"Konwledge graph, Language Model\"\n",
    "\n",
    "KG_class = AKG.autoKG(texts=texts,\n",
    "                         source=sources,\n",
    "                         embedding_model=EMBEDDING_MODEL,\n",
    "                         llm_model=COMPLETIONS_MODEL,\n",
    "                         openai_api_key=OPENAI_API_KEY,\n",
    "                         main_topic=main_topic,\n",
    "                         embedding=True)"
   ]
  },
  {
   "cell_type": "code",
   "execution_count": 6,
   "metadata": {
    "collapsed": false,
    "jupyter": {
     "outputs_hidden": false
    },
    "pycharm": {
     "name": "#%%\n"
    }
   },
   "outputs": [
    {
     "name": "stdout",
     "output_type": "stream",
     "text": [
      "1123\n"
     ]
    }
   ],
   "source": [
    "# step one: remove duplicates\n",
    "to_keep, to_delete, remains = KG_class.remove_same_text(use_nn=True, n_neighbors=25, thresh=1e-6, update=True)\n",
    "print(len(to_keep))"
   ]
  },
  {
   "cell_type": "code",
   "execution_count": 7,
   "metadata": {
    "collapsed": false,
    "jupyter": {
     "outputs_hidden": false
    },
    "pycharm": {
     "name": "#%%\n"
    }
   },
   "outputs": [
    {
     "name": "stdout",
     "output_type": "stream",
     "text": [
      "Before Post Process: 159\n",
      "After Post Process: 159\n",
      "Number of keywords selected: 159\n",
      "Token used: 57680\n",
      "Before Post Process: 217\n",
      "After Post Process: 217\n",
      "Number of keywords selected: 217\n",
      "Token used: 61636\n",
      "Number of keywords: 330\n"
     ]
    }
   ],
   "source": [
    "# step two: extract keywords with two methods\n",
    "core_list_1, all_tokens = KG_class.cluster(15,\n",
    "                               clustering_method='NgJordanWeiss',\n",
    "                               max_texts=15,\n",
    "                               select_mtd='similarity',\n",
    "                               prompt_language='English',\n",
    "                               num_topics=10,\n",
    "                               max_length=3,\n",
    "                               post_process=True,\n",
    "                               add_keywords=False,\n",
    "                               verbose=False)\n",
    "print(\"Number of keywords selected:\", len(core_list_1))\n",
    "print(\"Token used:\", all_tokens)\n",
    "\n",
    "core_list_2, all_tokens = KG_class.cluster(15,\n",
    "                               clustering_method='k_means',\n",
    "                               max_texts=15,\n",
    "                               select_mtd='similarity',\n",
    "                               prompt_language='English',\n",
    "                               num_topics=10,\n",
    "                               max_length=3,\n",
    "                               post_process=True,\n",
    "                               add_keywords=True)\n",
    "print(\"Number of keywords selected:\", len(core_list_2))\n",
    "print(\"Token used:\", all_tokens)\n",
    "\n",
    "print(\"Number of keywords:\", len(KG_class.keywords))"
   ]
  },
  {
   "cell_type": "code",
   "execution_count": 8,
   "metadata": {
    "collapsed": false,
    "jupyter": {
     "outputs_hidden": false
    },
    "pycharm": {
     "name": "#%% postprocess one: remove substrings\n"
    }
   },
   "outputs": [
    {
     "name": "stdout",
     "output_type": "stream",
     "text": [
      "Number of keywords: 291\n"
     ]
    }
   ],
   "source": [
    "_ = KG_class.sub_entry_filter()\n",
    "print(\"Number of keywords:\", len(KG_class.keywords))"
   ]
  },
  {
   "cell_type": "code",
   "execution_count": 9,
   "metadata": {
    "collapsed": false,
    "jupyter": {
     "outputs_hidden": false
    },
    "pycharm": {
     "name": "#%% postprocess two: LLM processing\n"
    }
   },
   "outputs": [
    {
     "name": "stdout",
     "output_type": "stream",
     "text": [
      "Token used: 8147\n",
      "Number of keywords: 301\n"
     ]
    }
   ],
   "source": [
    "_, all_tokens = KG_class.final_keywords_filter()\n",
    "print(\"Token used:\", all_tokens)\n",
    "print(\"Number of keywords:\", len(KG_class.keywords))\n"
   ]
  },
  {
   "cell_type": "code",
   "execution_count": 10,
   "metadata": {
    "collapsed": false,
    "jupyter": {
     "outputs_hidden": false
    },
    "pycharm": {
     "name": "#%%\n"
    }
   },
   "outputs": [],
   "source": [
    "KG_class.make_graph(30)\n",
    "pred_mat, U_mat, A = KG_class.coretexts_seg_individual(k=30, trust_num=5, negative_multiplier=7, seg_mtd='laplace',\n",
    "                                                return_mat=True, connect_threshold=0.2)"
   ]
  },
  {
   "cell_type": "code",
   "execution_count": 11,
   "metadata": {
    "collapsed": false,
    "jupyter": {
     "outputs_hidden": false
    },
    "pycharm": {
     "name": "#%%\n"
    }
   },
   "outputs": [
    {
     "name": "stdout",
     "output_type": "stream",
     "text": [
      "True\n"
     ]
    }
   ],
   "source": [
    "KG_class.get_dist_mat()\n",
    "print(KG_class.check_completion())"
   ]
  },
  {
   "cell_type": "code",
   "execution_count": 12,
   "metadata": {
    "collapsed": false,
    "jupyter": {
     "outputs_hidden": false
    },
    "pycharm": {
     "name": "#%%\n"
    }
   },
   "outputs": [
    {
     "data": {
      "image/png": "[encoded data removed]",
      "text/plain": [
       "<Figure size 640x480 with 1 Axes>"
      ]
     },
     "metadata": {},
     "output_type": "display_data"
    }
   ],
   "source": [
    "deg_mat = np.sum(np.array(A.todense()) > 0, axis=0)\n",
    "plt.hist(deg_mat)\n",
    "plt.show()"
   ]
  },
  {
   "cell_type": "code",
   "execution_count": 13,
   "metadata": {
    "collapsed": false,
    "jupyter": {
     "outputs_hidden": false
    },
    "pycharm": {
     "name": "#%%\n"
    }
   },
   "outputs": [
    {
     "name": "stdout",
     "output_type": "stream",
     "text": [
      "Successfully save to KG_data\\ref_paper_KG.npy\n"
     ]
    }
   ],
   "source": [
    "KG_class.save_data(os.path.join('KG_data', 'ref_paper_KG.npy'), include_texts=True)\n"
   ]
  },
  {
   "cell_type": "code",
   "execution_count": null,
   "metadata": {
    "collapsed": false,
    "jupyter": {
     "outputs_hidden": false
    },
    "pycharm": {
     "name": "#%%\n"
    }
   },
   "outputs": [],
   "source": []
  }
 ],
 "metadata": {
  "kernelspec": {
   "display_name": "Python 3 (ipykernel)",
   "language": "python",
   "name": "python3"
  },
  "language_info": {
   "codemirror_mode": {
    "name": "ipython",
    "version": 3
   },
   "file_extension": ".py",
   "mimetype": "text/x-python",
   "name": "python",
   "nbconvert_exporter": "python",
   "pygments_lexer": "ipython3",
   "version": "3.10.14"
  }
 },
 "nbformat": 4,
 "nbformat_minor": 4
}
